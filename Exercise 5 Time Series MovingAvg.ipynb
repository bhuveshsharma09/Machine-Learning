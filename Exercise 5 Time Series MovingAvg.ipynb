{
 "cells": [
  {
   "cell_type": "markdown",
   "metadata": {},
   "source": [
    "# Time Series - Moving Average Exercise 2"
   ]
  },
  {
   "cell_type": "raw",
   "metadata": {},
   "source": [
    "Load the stock price of AMZN from the file AMZN.csv.  You could also download the data from \n",
    "https://finance.yahoo.com/quote/AMZN/history?p=AMZN.  Perform the followings:\n",
    "1) What is the average stock price based on the past 200 days?\n",
    "2) Plot the graph of the historical stock price, 50 days moving average and 200 days moving average"
   ]
  },
  {
   "cell_type": "markdown",
   "metadata": {},
   "source": [
    "### <font color='red'>1) Loading the data and calling required libs\n",
    " "
   ]
  },
  {
   "cell_type": "code",
   "execution_count": 1,
   "metadata": {},
   "outputs": [],
   "source": [
    "import numpy as np\n",
    "import pandas as pd\n",
    "import matplotlib.pyplot as plt\n",
    "import seaborn as sns\n",
    "\n",
    "from sklearn.model_selection import train_test_split\n",
    "from sklearn.pipeline import Pipeline\n",
    "from sklearn.tree import DecisionTreeClassifier\n",
    "\n",
    "from sklearn.metrics import accuracy_score, confusion_matrix,roc_curve,auc\n",
    "\n",
    "from sklearn import tree\n",
    "import graphviz\n",
    "from graphviz import Source\n",
    "from dtreeviz.trees import *\n",
    "\n",
    "from sklearn.model_selection import cross_val_score\n",
    "\n",
    "from IPython.display import display, Markdown\n",
    "import warnings\n",
    "warnings.filterwarnings(\"ignore\")\n",
    "\n",
    "\n",
    "\n",
    "%matplotlib inline"
   ]
  },
  {
   "cell_type": "code",
   "execution_count": 2,
   "metadata": {},
   "outputs": [
    {
     "data": {
      "text/html": [
       "<div>\n",
       "<style scoped>\n",
       "    .dataframe tbody tr th:only-of-type {\n",
       "        vertical-align: middle;\n",
       "    }\n",
       "\n",
       "    .dataframe tbody tr th {\n",
       "        vertical-align: top;\n",
       "    }\n",
       "\n",
       "    .dataframe thead th {\n",
       "        text-align: right;\n",
       "    }\n",
       "</style>\n",
       "<table border=\"1\" class=\"dataframe\">\n",
       "  <thead>\n",
       "    <tr style=\"text-align: right;\">\n",
       "      <th></th>\n",
       "      <th>Date</th>\n",
       "      <th>Open</th>\n",
       "      <th>High</th>\n",
       "      <th>Low</th>\n",
       "      <th>ClosingPrice</th>\n",
       "      <th>Adj Close</th>\n",
       "      <th>Volume</th>\n",
       "    </tr>\n",
       "  </thead>\n",
       "  <tbody>\n",
       "    <tr>\n",
       "      <th>0</th>\n",
       "      <td>18/10/2018</td>\n",
       "      <td>1821.489990</td>\n",
       "      <td>1830.150024</td>\n",
       "      <td>1767.869995</td>\n",
       "      <td>1770.719971</td>\n",
       "      <td>1770.719971</td>\n",
       "      <td>5874000</td>\n",
       "    </tr>\n",
       "    <tr>\n",
       "      <th>1</th>\n",
       "      <td>19/10/2018</td>\n",
       "      <td>1785.160034</td>\n",
       "      <td>1809.099976</td>\n",
       "      <td>1753.000000</td>\n",
       "      <td>1764.030029</td>\n",
       "      <td>1764.030029</td>\n",
       "      <td>5907200</td>\n",
       "    </tr>\n",
       "    <tr>\n",
       "      <th>2</th>\n",
       "      <td>22/10/2018</td>\n",
       "      <td>1784.000000</td>\n",
       "      <td>1809.500000</td>\n",
       "      <td>1756.000000</td>\n",
       "      <td>1789.300049</td>\n",
       "      <td>1789.300049</td>\n",
       "      <td>4500000</td>\n",
       "    </tr>\n",
       "    <tr>\n",
       "      <th>3</th>\n",
       "      <td>23/10/2018</td>\n",
       "      <td>1742.239990</td>\n",
       "      <td>1776.339966</td>\n",
       "      <td>1714.000000</td>\n",
       "      <td>1768.699951</td>\n",
       "      <td>1768.699951</td>\n",
       "      <td>6723900</td>\n",
       "    </tr>\n",
       "    <tr>\n",
       "      <th>4</th>\n",
       "      <td>24/10/2018</td>\n",
       "      <td>1773.699951</td>\n",
       "      <td>1777.709961</td>\n",
       "      <td>1656.560059</td>\n",
       "      <td>1664.199951</td>\n",
       "      <td>1664.199951</td>\n",
       "      <td>6928400</td>\n",
       "    </tr>\n",
       "  </tbody>\n",
       "</table>\n",
       "</div>"
      ],
      "text/plain": [
       "         Date         Open         High          Low  ClosingPrice  \\\n",
       "0  18/10/2018  1821.489990  1830.150024  1767.869995   1770.719971   \n",
       "1  19/10/2018  1785.160034  1809.099976  1753.000000   1764.030029   \n",
       "2  22/10/2018  1784.000000  1809.500000  1756.000000   1789.300049   \n",
       "3  23/10/2018  1742.239990  1776.339966  1714.000000   1768.699951   \n",
       "4  24/10/2018  1773.699951  1777.709961  1656.560059   1664.199951   \n",
       "\n",
       "     Adj Close   Volume  \n",
       "0  1770.719971  5874000  \n",
       "1  1764.030029  5907200  \n",
       "2  1789.300049  4500000  \n",
       "3  1768.699951  6723900  \n",
       "4  1664.199951  6928400  "
      ]
     },
     "execution_count": 2,
     "metadata": {},
     "output_type": "execute_result"
    }
   ],
   "source": [
    "data = pd.read_csv('AMZN.csv')\n",
    "data.head(5)"
   ]
  },
  {
   "cell_type": "code",
   "execution_count": 3,
   "metadata": {},
   "outputs": [
    {
     "name": "stdout",
     "output_type": "stream",
     "text": [
      "<class 'pandas.core.frame.DataFrame'>\n",
      "RangeIndex: 251 entries, 0 to 250\n",
      "Data columns (total 7 columns):\n",
      " #   Column        Non-Null Count  Dtype  \n",
      "---  ------        --------------  -----  \n",
      " 0   Date          251 non-null    object \n",
      " 1   Open          251 non-null    float64\n",
      " 2   High          251 non-null    float64\n",
      " 3   Low           251 non-null    float64\n",
      " 4   ClosingPrice  251 non-null    float64\n",
      " 5   Adj Close     251 non-null    float64\n",
      " 6   Volume        251 non-null    int64  \n",
      "dtypes: float64(5), int64(1), object(1)\n",
      "memory usage: 13.9+ KB\n"
     ]
    }
   ],
   "source": [
    "data.info()"
   ]
  },
  {
   "cell_type": "code",
   "execution_count": 4,
   "metadata": {},
   "outputs": [],
   "source": [
    "# as the date column is an object type, it needs to be converted to DataTime type\n",
    "data['Date'] = pd.to_datetime(data['Date'])"
   ]
  },
  {
   "cell_type": "code",
   "execution_count": 5,
   "metadata": {},
   "outputs": [
    {
     "name": "stdout",
     "output_type": "stream",
     "text": [
      "<class 'pandas.core.frame.DataFrame'>\n",
      "RangeIndex: 251 entries, 0 to 250\n",
      "Data columns (total 7 columns):\n",
      " #   Column        Non-Null Count  Dtype         \n",
      "---  ------        --------------  -----         \n",
      " 0   Date          251 non-null    datetime64[ns]\n",
      " 1   Open          251 non-null    float64       \n",
      " 2   High          251 non-null    float64       \n",
      " 3   Low           251 non-null    float64       \n",
      " 4   ClosingPrice  251 non-null    float64       \n",
      " 5   Adj Close     251 non-null    float64       \n",
      " 6   Volume        251 non-null    int64         \n",
      "dtypes: datetime64[ns](1), float64(5), int64(1)\n",
      "memory usage: 13.9 KB\n"
     ]
    }
   ],
   "source": [
    "data.info()"
   ]
  },
  {
   "cell_type": "code",
   "execution_count": 6,
   "metadata": {},
   "outputs": [
    {
     "data": {
      "text/html": [
       "<div>\n",
       "<style scoped>\n",
       "    .dataframe tbody tr th:only-of-type {\n",
       "        vertical-align: middle;\n",
       "    }\n",
       "\n",
       "    .dataframe tbody tr th {\n",
       "        vertical-align: top;\n",
       "    }\n",
       "\n",
       "    .dataframe thead th {\n",
       "        text-align: right;\n",
       "    }\n",
       "</style>\n",
       "<table border=\"1\" class=\"dataframe\">\n",
       "  <thead>\n",
       "    <tr style=\"text-align: right;\">\n",
       "      <th></th>\n",
       "      <th>Date</th>\n",
       "      <th>Open</th>\n",
       "      <th>High</th>\n",
       "      <th>Low</th>\n",
       "      <th>ClosingPrice</th>\n",
       "      <th>Adj Close</th>\n",
       "      <th>Volume</th>\n",
       "    </tr>\n",
       "  </thead>\n",
       "  <tbody>\n",
       "    <tr>\n",
       "      <th>234</th>\n",
       "      <td>2019-09-25</td>\n",
       "      <td>1747.359985</td>\n",
       "      <td>1773.000000</td>\n",
       "      <td>1723.000000</td>\n",
       "      <td>1768.329956</td>\n",
       "      <td>1768.329956</td>\n",
       "      <td>3493200</td>\n",
       "    </tr>\n",
       "    <tr>\n",
       "      <th>159</th>\n",
       "      <td>2019-10-06</td>\n",
       "      <td>1822.000000</td>\n",
       "      <td>1884.869995</td>\n",
       "      <td>1818.000000</td>\n",
       "      <td>1860.630005</td>\n",
       "      <td>1860.630005</td>\n",
       "      <td>5371000</td>\n",
       "    </tr>\n",
       "    <tr>\n",
       "      <th>115</th>\n",
       "      <td>2019-05-04</td>\n",
       "      <td>1829.000000</td>\n",
       "      <td>1838.579956</td>\n",
       "      <td>1825.189941</td>\n",
       "      <td>1837.280029</td>\n",
       "      <td>1837.280029</td>\n",
       "      <td>3640500</td>\n",
       "    </tr>\n",
       "    <tr>\n",
       "      <th>129</th>\n",
       "      <td>2019-04-26</td>\n",
       "      <td>1929.000000</td>\n",
       "      <td>1951.000000</td>\n",
       "      <td>1898.000000</td>\n",
       "      <td>1950.630005</td>\n",
       "      <td>1950.630005</td>\n",
       "      <td>8432600</td>\n",
       "    </tr>\n",
       "    <tr>\n",
       "      <th>42</th>\n",
       "      <td>2018-12-19</td>\n",
       "      <td>1543.050049</td>\n",
       "      <td>1584.530029</td>\n",
       "      <td>1483.180054</td>\n",
       "      <td>1495.079956</td>\n",
       "      <td>1495.079956</td>\n",
       "      <td>8792200</td>\n",
       "    </tr>\n",
       "  </tbody>\n",
       "</table>\n",
       "</div>"
      ],
      "text/plain": [
       "          Date         Open         High          Low  ClosingPrice  \\\n",
       "234 2019-09-25  1747.359985  1773.000000  1723.000000   1768.329956   \n",
       "159 2019-10-06  1822.000000  1884.869995  1818.000000   1860.630005   \n",
       "115 2019-05-04  1829.000000  1838.579956  1825.189941   1837.280029   \n",
       "129 2019-04-26  1929.000000  1951.000000  1898.000000   1950.630005   \n",
       "42  2018-12-19  1543.050049  1584.530029  1483.180054   1495.079956   \n",
       "\n",
       "       Adj Close   Volume  \n",
       "234  1768.329956  3493200  \n",
       "159  1860.630005  5371000  \n",
       "115  1837.280029  3640500  \n",
       "129  1950.630005  8432600  \n",
       "42   1495.079956  8792200  "
      ]
     },
     "execution_count": 6,
     "metadata": {},
     "output_type": "execute_result"
    }
   ],
   "source": [
    "data.sample(5)"
   ]
  },
  {
   "cell_type": "markdown",
   "metadata": {},
   "source": [
    "### <font color='red'>2) Feature engineering\n",
    " "
   ]
  },
  {
   "cell_type": "code",
   "execution_count": 10,
   "metadata": {},
   "outputs": [],
   "source": [
    "data['Months'] = data['Date'].dt.month\n",
    "data['Days']=data['Date'].dt.day\n",
    "data['Year'] = data['Date'].dt.year"
   ]
  },
  {
   "cell_type": "code",
   "execution_count": 12,
   "metadata": {},
   "outputs": [
    {
     "data": {
      "text/html": [
       "<div>\n",
       "<style scoped>\n",
       "    .dataframe tbody tr th:only-of-type {\n",
       "        vertical-align: middle;\n",
       "    }\n",
       "\n",
       "    .dataframe tbody tr th {\n",
       "        vertical-align: top;\n",
       "    }\n",
       "\n",
       "    .dataframe thead th {\n",
       "        text-align: right;\n",
       "    }\n",
       "</style>\n",
       "<table border=\"1\" class=\"dataframe\">\n",
       "  <thead>\n",
       "    <tr style=\"text-align: right;\">\n",
       "      <th></th>\n",
       "      <th>Date</th>\n",
       "      <th>Open</th>\n",
       "      <th>High</th>\n",
       "      <th>Low</th>\n",
       "      <th>ClosingPrice</th>\n",
       "      <th>Adj Close</th>\n",
       "      <th>Volume</th>\n",
       "      <th>Months</th>\n",
       "      <th>Days</th>\n",
       "      <th>Year</th>\n",
       "    </tr>\n",
       "  </thead>\n",
       "  <tbody>\n",
       "    <tr>\n",
       "      <th>0</th>\n",
       "      <td>2018-10-18</td>\n",
       "      <td>1821.489990</td>\n",
       "      <td>1830.150024</td>\n",
       "      <td>1767.869995</td>\n",
       "      <td>1770.719971</td>\n",
       "      <td>1770.719971</td>\n",
       "      <td>5874000</td>\n",
       "      <td>10</td>\n",
       "      <td>18</td>\n",
       "      <td>2018</td>\n",
       "    </tr>\n",
       "    <tr>\n",
       "      <th>1</th>\n",
       "      <td>2018-10-19</td>\n",
       "      <td>1785.160034</td>\n",
       "      <td>1809.099976</td>\n",
       "      <td>1753.000000</td>\n",
       "      <td>1764.030029</td>\n",
       "      <td>1764.030029</td>\n",
       "      <td>5907200</td>\n",
       "      <td>10</td>\n",
       "      <td>19</td>\n",
       "      <td>2018</td>\n",
       "    </tr>\n",
       "    <tr>\n",
       "      <th>2</th>\n",
       "      <td>2018-10-22</td>\n",
       "      <td>1784.000000</td>\n",
       "      <td>1809.500000</td>\n",
       "      <td>1756.000000</td>\n",
       "      <td>1789.300049</td>\n",
       "      <td>1789.300049</td>\n",
       "      <td>4500000</td>\n",
       "      <td>10</td>\n",
       "      <td>22</td>\n",
       "      <td>2018</td>\n",
       "    </tr>\n",
       "    <tr>\n",
       "      <th>3</th>\n",
       "      <td>2018-10-23</td>\n",
       "      <td>1742.239990</td>\n",
       "      <td>1776.339966</td>\n",
       "      <td>1714.000000</td>\n",
       "      <td>1768.699951</td>\n",
       "      <td>1768.699951</td>\n",
       "      <td>6723900</td>\n",
       "      <td>10</td>\n",
       "      <td>23</td>\n",
       "      <td>2018</td>\n",
       "    </tr>\n",
       "    <tr>\n",
       "      <th>4</th>\n",
       "      <td>2018-10-24</td>\n",
       "      <td>1773.699951</td>\n",
       "      <td>1777.709961</td>\n",
       "      <td>1656.560059</td>\n",
       "      <td>1664.199951</td>\n",
       "      <td>1664.199951</td>\n",
       "      <td>6928400</td>\n",
       "      <td>10</td>\n",
       "      <td>24</td>\n",
       "      <td>2018</td>\n",
       "    </tr>\n",
       "  </tbody>\n",
       "</table>\n",
       "</div>"
      ],
      "text/plain": [
       "        Date         Open         High          Low  ClosingPrice  \\\n",
       "0 2018-10-18  1821.489990  1830.150024  1767.869995   1770.719971   \n",
       "1 2018-10-19  1785.160034  1809.099976  1753.000000   1764.030029   \n",
       "2 2018-10-22  1784.000000  1809.500000  1756.000000   1789.300049   \n",
       "3 2018-10-23  1742.239990  1776.339966  1714.000000   1768.699951   \n",
       "4 2018-10-24  1773.699951  1777.709961  1656.560059   1664.199951   \n",
       "\n",
       "     Adj Close   Volume  Months  Days  Year  \n",
       "0  1770.719971  5874000      10    18  2018  \n",
       "1  1764.030029  5907200      10    19  2018  \n",
       "2  1789.300049  4500000      10    22  2018  \n",
       "3  1768.699951  6723900      10    23  2018  \n",
       "4  1664.199951  6928400      10    24  2018  "
      ]
     },
     "execution_count": 12,
     "metadata": {},
     "output_type": "execute_result"
    }
   ],
   "source": [
    "data.head(5)"
   ]
  },
  {
   "cell_type": "markdown",
   "metadata": {},
   "source": [
    "### <font color='red'>3) Visualization to understand the data better\n",
    " "
   ]
  },
  {
   "cell_type": "code",
   "execution_count": 51,
   "metadata": {},
   "outputs": [
    {
     "data": {
      "text/plain": [
       "<matplotlib.axes._subplots.AxesSubplot at 0x21e492219c8>"
      ]
     },
     "execution_count": 51,
     "metadata": {},
     "output_type": "execute_result"
    },
    {
     "data": {
      "image/png": "[encoded data removed]",
      "text/plain": [
       "<Figure size 432x288 with 1 Axes>"
      ]
     },
     "metadata": {
      "needs_background": "light"
     },
     "output_type": "display_data"
    }
   ],
   "source": [
    "sns.lineplot(x=data['Year'],y=data['Adj Close'])"
   ]
  },
  {
   "cell_type": "code",
   "execution_count": 25,
   "metadata": {},
   "outputs": [
    {
     "data": {
      "text/plain": [
       "<matplotlib.axes._subplots.AxesSubplot at 0x21e49f37948>"
      ]
     },
     "execution_count": 25,
     "metadata": {},
     "output_type": "execute_result"
    },
    {
     "data": {
      "image/png": "[encoded data removed]",
      "text/plain": [
       "<Figure size 432x288 with 1 Axes>"
      ]
     },
     "metadata": {
      "needs_background": "light"
     },
     "output_type": "display_data"
    }
   ],
   "source": [
    "sns.lineplot(x=data['Days'],y=data['Adj Close'])"
   ]
  },
  {
   "cell_type": "code",
   "execution_count": 18,
   "metadata": {},
   "outputs": [
    {
     "data": {
      "text/plain": [
       "<matplotlib.axes._subplots.AxesSubplot at 0x21e49386f08>"
      ]
     },
     "execution_count": 18,
     "metadata": {},
     "output_type": "execute_result"
    },
    {
     "data": {
      "image/png": "[encoded data removed]",
      "text/plain": [
       "<Figure size 432x288 with 2 Axes>"
      ]
     },
     "metadata": {
      "needs_background": "light"
     },
     "output_type": "display_data"
    }
   ],
   "source": [
    "sns.heatmap(data.corr())\n",
    "\n",
    "data.describe()"
   ]
  },
  {
   "cell_type": "code",
   "execution_count": 52,
   "metadata": {},
   "outputs": [
    {
     "data": {
      "text/html": [
       "<div>\n",
       "<style scoped>\n",
       "    .dataframe tbody tr th:only-of-type {\n",
       "        vertical-align: middle;\n",
       "    }\n",
       "\n",
       "    .dataframe tbody tr th {\n",
       "        vertical-align: top;\n",
       "    }\n",
       "\n",
       "    .dataframe thead th {\n",
       "        text-align: right;\n",
       "    }\n",
       "</style>\n",
       "<table border=\"1\" class=\"dataframe\">\n",
       "  <thead>\n",
       "    <tr style=\"text-align: right;\">\n",
       "      <th></th>\n",
       "      <th>Open</th>\n",
       "      <th>High</th>\n",
       "      <th>Low</th>\n",
       "      <th>ClosingPrice</th>\n",
       "      <th>Adj Close</th>\n",
       "      <th>Volume</th>\n",
       "      <th>Months</th>\n",
       "      <th>Days</th>\n",
       "      <th>Year</th>\n",
       "    </tr>\n",
       "  </thead>\n",
       "  <tbody>\n",
       "    <tr>\n",
       "      <th>count</th>\n",
       "      <td>251.000000</td>\n",
       "      <td>251.000000</td>\n",
       "      <td>251.000000</td>\n",
       "      <td>251.000000</td>\n",
       "      <td>251.000000</td>\n",
       "      <td>2.510000e+02</td>\n",
       "      <td>251.000000</td>\n",
       "      <td>251.000000</td>\n",
       "      <td>251.000000</td>\n",
       "    </tr>\n",
       "    <tr>\n",
       "      <th>mean</th>\n",
       "      <td>1757.141947</td>\n",
       "      <td>1774.890120</td>\n",
       "      <td>1736.064342</td>\n",
       "      <td>1756.146497</td>\n",
       "      <td>1756.146497</td>\n",
       "      <td>4.798385e+06</td>\n",
       "      <td>6.605578</td>\n",
       "      <td>15.697211</td>\n",
       "      <td>2018.800797</td>\n",
       "    </tr>\n",
       "    <tr>\n",
       "      <th>std</th>\n",
       "      <td>132.529924</td>\n",
       "      <td>126.085532</td>\n",
       "      <td>137.526137</td>\n",
       "      <td>132.291032</td>\n",
       "      <td>132.291032</td>\n",
       "      <td>2.313652e+06</td>\n",
       "      <td>3.440902</td>\n",
       "      <td>8.854149</td>\n",
       "      <td>0.400199</td>\n",
       "    </tr>\n",
       "    <tr>\n",
       "      <th>min</th>\n",
       "      <td>1346.000000</td>\n",
       "      <td>1396.030029</td>\n",
       "      <td>1307.000000</td>\n",
       "      <td>1343.959961</td>\n",
       "      <td>1343.959961</td>\n",
       "      <td>1.690300e+06</td>\n",
       "      <td>1.000000</td>\n",
       "      <td>1.000000</td>\n",
       "      <td>2018.000000</td>\n",
       "    </tr>\n",
       "    <tr>\n",
       "      <th>25%</th>\n",
       "      <td>1656.159973</td>\n",
       "      <td>1675.885010</td>\n",
       "      <td>1628.010010</td>\n",
       "      <td>1656.399964</td>\n",
       "      <td>1656.399964</td>\n",
       "      <td>3.051650e+06</td>\n",
       "      <td>4.000000</td>\n",
       "      <td>8.000000</td>\n",
       "      <td>2019.000000</td>\n",
       "    </tr>\n",
       "    <tr>\n",
       "      <th>50%</th>\n",
       "      <td>1770.219971</td>\n",
       "      <td>1788.000000</td>\n",
       "      <td>1748.780029</td>\n",
       "      <td>1768.699951</td>\n",
       "      <td>1768.699951</td>\n",
       "      <td>4.208900e+06</td>\n",
       "      <td>7.000000</td>\n",
       "      <td>16.000000</td>\n",
       "      <td>2019.000000</td>\n",
       "    </tr>\n",
       "    <tr>\n",
       "      <th>75%</th>\n",
       "      <td>1845.279968</td>\n",
       "      <td>1853.375000</td>\n",
       "      <td>1834.725036</td>\n",
       "      <td>1848.594970</td>\n",
       "      <td>1848.594970</td>\n",
       "      <td>5.920250e+06</td>\n",
       "      <td>10.000000</td>\n",
       "      <td>23.000000</td>\n",
       "      <td>2019.000000</td>\n",
       "    </tr>\n",
       "    <tr>\n",
       "      <th>max</th>\n",
       "      <td>2025.619995</td>\n",
       "      <td>2035.800049</td>\n",
       "      <td>2003.869995</td>\n",
       "      <td>2020.989990</td>\n",
       "      <td>2020.989990</td>\n",
       "      <td>1.496380e+07</td>\n",
       "      <td>12.000000</td>\n",
       "      <td>31.000000</td>\n",
       "      <td>2019.000000</td>\n",
       "    </tr>\n",
       "  </tbody>\n",
       "</table>\n",
       "</div>"
      ],
      "text/plain": [
       "              Open         High          Low  ClosingPrice    Adj Close  \\\n",
       "count   251.000000   251.000000   251.000000    251.000000   251.000000   \n",
       "mean   1757.141947  1774.890120  1736.064342   1756.146497  1756.146497   \n",
       "std     132.529924   126.085532   137.526137    132.291032   132.291032   \n",
       "min    1346.000000  1396.030029  1307.000000   1343.959961  1343.959961   \n",
       "25%    1656.159973  1675.885010  1628.010010   1656.399964  1656.399964   \n",
       "50%    1770.219971  1788.000000  1748.780029   1768.699951  1768.699951   \n",
       "75%    1845.279968  1853.375000  1834.725036   1848.594970  1848.594970   \n",
       "max    2025.619995  2035.800049  2003.869995   2020.989990  2020.989990   \n",
       "\n",
       "             Volume      Months        Days         Year  \n",
       "count  2.510000e+02  251.000000  251.000000   251.000000  \n",
       "mean   4.798385e+06    6.605578   15.697211  2018.800797  \n",
       "std    2.313652e+06    3.440902    8.854149     0.400199  \n",
       "min    1.690300e+06    1.000000    1.000000  2018.000000  \n",
       "25%    3.051650e+06    4.000000    8.000000  2019.000000  \n",
       "50%    4.208900e+06    7.000000   16.000000  2019.000000  \n",
       "75%    5.920250e+06   10.000000   23.000000  2019.000000  \n",
       "max    1.496380e+07   12.000000   31.000000  2019.000000  "
      ]
     },
     "execution_count": 52,
     "metadata": {},
     "output_type": "execute_result"
    }
   ],
   "source": [
    "data.describe()"
   ]
  },
  {
   "cell_type": "code",
   "execution_count": 57,
   "metadata": {},
   "outputs": [
    {
     "data": {
      "text/plain": [
       "<matplotlib.axes._subplots.AxesSubplot at 0x21e4367bf48>"
      ]
     },
     "execution_count": 57,
     "metadata": {},
     "output_type": "execute_result"
    },
    {
     "data": {
      "image/png": "[encoded data removed]",
      "text/plain": [
       "<Figure size 432x288 with 1 Axes>"
      ]
     },
     "metadata": {
      "needs_background": "light"
     },
     "output_type": "display_data"
    }
   ],
   "source": [
    "sns.boxplot(x=data[\"Adj Close\"], y=data[\"Date\"], data=pd.melt(data))\n"
   ]
  },
  {
   "cell_type": "markdown",
   "metadata": {},
   "source": [
    "### <font color='blue'> Observations:\n",
    "* the columns 'open', 'high', 'low', 'closing price', 'adj close' are highly correlated. so we only need to keep one\n",
    " "
   ]
  },
  {
   "cell_type": "markdown",
   "metadata": {},
   "source": [
    "### <font color='red'>4) Answering the questions\n",
    " "
   ]
  },
  {
   "cell_type": "code",
   "execution_count": 33,
   "metadata": {},
   "outputs": [],
   "source": [
    "NUMBER_OF_DAYS = 200  # set the recent period\n",
    "data_200_days = data['Adj Close'][-NUMBER_OF_DAYS:]"
   ]
  },
  {
   "cell_type": "markdown",
   "metadata": {},
   "source": [
    "##### <font color='blue'>1) What is the average stock price based on the past 200 days?"
   ]
  },
  {
   "cell_type": "code",
   "execution_count": 34,
   "metadata": {},
   "outputs": [
    {
     "data": {
      "text/plain": [
       "1793.1991015499996"
      ]
     },
     "execution_count": 34,
     "metadata": {},
     "output_type": "execute_result"
    }
   ],
   "source": [
    "data_200_days.mean()"
   ]
  },
  {
   "cell_type": "markdown",
   "metadata": {},
   "source": [
    "##### <font color='blue'>2) Plot the graph of the historical stock price, 50 days moving average and 200 days moving average"
   ]
  },
  {
   "cell_type": "code",
   "execution_count": 39,
   "metadata": {},
   "outputs": [
    {
     "name": "stdout",
     "output_type": "stream",
     "text": [
      "        Date         Open         High          Low  ClosingPrice  \\\n",
      "0 2018-10-18  1821.489990  1830.150024  1767.869995   1770.719971   \n",
      "1 2018-10-19  1785.160034  1809.099976  1753.000000   1764.030029   \n",
      "2 2018-10-22  1784.000000  1809.500000  1756.000000   1789.300049   \n",
      "3 2018-10-23  1742.239990  1776.339966  1714.000000   1768.699951   \n",
      "4 2018-10-24  1773.699951  1777.709961  1656.560059   1664.199951   \n",
      "\n",
      "     Adj Close   Volume  Months  Days  Year  \n",
      "0  1770.719971  5874000      10    18  2018  \n",
      "1  1764.030029  5907200      10    19  2018  \n",
      "2  1789.300049  4500000      10    22  2018  \n",
      "3  1768.699951  6723900      10    23  2018  \n",
      "4  1664.199951  6928400      10    24  2018  \n",
      "--  rolling mean 3\n",
      "0   NaN\n",
      "1   NaN\n",
      "2   NaN\n",
      "3   NaN\n",
      "4   NaN\n",
      "Name: Adj Close, dtype: float64\n",
      "--  rolling mean 12\n",
      "0   NaN\n",
      "1   NaN\n",
      "2   NaN\n",
      "3   NaN\n",
      "4   NaN\n",
      "Name: Adj Close, dtype: float64\n"
     ]
    }
   ],
   "source": [
    "rolling_mean_50 = data['Adj Close'].rolling(window=50).mean().shift(1)  \n",
    "\n",
    "rolling_mean_200 = data['Adj Close'].rolling(window=200).mean().shift(1)  \n",
    " # moving average of past 12 months, shift one row\n",
    "\n",
    "print(data.head())\n",
    "print(\"--  rolling mean 3\")\n",
    "print(rolling_mean_50.head())\n",
    "print(\"--  rolling mean 12\")\n",
    "print(rolling_mean_200.head())"
   ]
  },
  {
   "cell_type": "code",
   "execution_count": 44,
   "metadata": {},
   "outputs": [
    {
     "data": {
      "image/png": "[encoded data removed]",
      "text/plain": [
       "<Figure size 432x288 with 1 Axes>"
      ]
     },
     "metadata": {
      "needs_background": "light"
     },
     "output_type": "display_data"
    }
   ],
   "source": [
    "plt.plot(data.index, data['Adj Close'], label='Overall')\n",
    "plt.plot(data.index, rolling_mean_50, label='50 days', color='orange')\n",
    "plt.plot(data.index, rolling_mean_200, label='200 days', color='magenta')\n",
    "plt.legend(loc='upper left')\n",
    "plt.show()"
   ]
  },
  {
   "cell_type": "code",
   "execution_count": 49,
   "metadata": {},
   "outputs": [
    {
     "data": {
      "text/plain": [
       "0              NaN\n",
       "1              NaN\n",
       "2              NaN\n",
       "3              NaN\n",
       "4              NaN\n",
       "          ...     \n",
       "246    1784.700999\n",
       "247    1782.233000\n",
       "248    1780.496802\n",
       "249    1780.541802\n",
       "250    1780.333804\n",
       "Name: Adj Close, Length: 251, dtype: float64"
      ]
     },
     "execution_count": 49,
     "metadata": {},
     "output_type": "execute_result"
    }
   ],
   "source": [
    "rolling_mean_50"
   ]
  },
  {
   "cell_type": "code",
   "execution_count": 46,
   "metadata": {},
   "outputs": [
    {
     "data": {
      "text/html": [
       "<div>\n",
       "<style scoped>\n",
       "    .dataframe tbody tr th:only-of-type {\n",
       "        vertical-align: middle;\n",
       "    }\n",
       "\n",
       "    .dataframe tbody tr th {\n",
       "        vertical-align: top;\n",
       "    }\n",
       "\n",
       "    .dataframe thead th {\n",
       "        text-align: right;\n",
       "    }\n",
       "</style>\n",
       "<table border=\"1\" class=\"dataframe\">\n",
       "  <thead>\n",
       "    <tr style=\"text-align: right;\">\n",
       "      <th></th>\n",
       "      <th>Date</th>\n",
       "      <th>Open</th>\n",
       "      <th>High</th>\n",
       "      <th>Low</th>\n",
       "      <th>ClosingPrice</th>\n",
       "      <th>Adj Close</th>\n",
       "      <th>Volume</th>\n",
       "      <th>Months</th>\n",
       "      <th>Days</th>\n",
       "      <th>Year</th>\n",
       "    </tr>\n",
       "  </thead>\n",
       "  <tbody>\n",
       "    <tr>\n",
       "      <th>0</th>\n",
       "      <td>2018-10-18</td>\n",
       "      <td>1821.489990</td>\n",
       "      <td>1830.150024</td>\n",
       "      <td>1767.869995</td>\n",
       "      <td>1770.719971</td>\n",
       "      <td>1770.719971</td>\n",
       "      <td>5874000</td>\n",
       "      <td>10</td>\n",
       "      <td>18</td>\n",
       "      <td>2018</td>\n",
       "    </tr>\n",
       "    <tr>\n",
       "      <th>1</th>\n",
       "      <td>2018-10-19</td>\n",
       "      <td>1785.160034</td>\n",
       "      <td>1809.099976</td>\n",
       "      <td>1753.000000</td>\n",
       "      <td>1764.030029</td>\n",
       "      <td>1764.030029</td>\n",
       "      <td>5907200</td>\n",
       "      <td>10</td>\n",
       "      <td>19</td>\n",
       "      <td>2018</td>\n",
       "    </tr>\n",
       "    <tr>\n",
       "      <th>2</th>\n",
       "      <td>2018-10-22</td>\n",
       "      <td>1784.000000</td>\n",
       "      <td>1809.500000</td>\n",
       "      <td>1756.000000</td>\n",
       "      <td>1789.300049</td>\n",
       "      <td>1789.300049</td>\n",
       "      <td>4500000</td>\n",
       "      <td>10</td>\n",
       "      <td>22</td>\n",
       "      <td>2018</td>\n",
       "    </tr>\n",
       "    <tr>\n",
       "      <th>3</th>\n",
       "      <td>2018-10-23</td>\n",
       "      <td>1742.239990</td>\n",
       "      <td>1776.339966</td>\n",
       "      <td>1714.000000</td>\n",
       "      <td>1768.699951</td>\n",
       "      <td>1768.699951</td>\n",
       "      <td>6723900</td>\n",
       "      <td>10</td>\n",
       "      <td>23</td>\n",
       "      <td>2018</td>\n",
       "    </tr>\n",
       "    <tr>\n",
       "      <th>4</th>\n",
       "      <td>2018-10-24</td>\n",
       "      <td>1773.699951</td>\n",
       "      <td>1777.709961</td>\n",
       "      <td>1656.560059</td>\n",
       "      <td>1664.199951</td>\n",
       "      <td>1664.199951</td>\n",
       "      <td>6928400</td>\n",
       "      <td>10</td>\n",
       "      <td>24</td>\n",
       "      <td>2018</td>\n",
       "    </tr>\n",
       "    <tr>\n",
       "      <th>...</th>\n",
       "      <td>...</td>\n",
       "      <td>...</td>\n",
       "      <td>...</td>\n",
       "      <td>...</td>\n",
       "      <td>...</td>\n",
       "      <td>...</td>\n",
       "      <td>...</td>\n",
       "      <td>...</td>\n",
       "      <td>...</td>\n",
       "      <td>...</td>\n",
       "    </tr>\n",
       "    <tr>\n",
       "      <th>246</th>\n",
       "      <td>2019-11-10</td>\n",
       "      <td>1742.920044</td>\n",
       "      <td>1745.449951</td>\n",
       "      <td>1729.859985</td>\n",
       "      <td>1731.920044</td>\n",
       "      <td>1731.920044</td>\n",
       "      <td>3255000</td>\n",
       "      <td>11</td>\n",
       "      <td>10</td>\n",
       "      <td>2019</td>\n",
       "    </tr>\n",
       "    <tr>\n",
       "      <th>247</th>\n",
       "      <td>2019-10-14</td>\n",
       "      <td>1728.910034</td>\n",
       "      <td>1741.890015</td>\n",
       "      <td>1722.000000</td>\n",
       "      <td>1736.430054</td>\n",
       "      <td>1736.430054</td>\n",
       "      <td>1910200</td>\n",
       "      <td>10</td>\n",
       "      <td>14</td>\n",
       "      <td>2019</td>\n",
       "    </tr>\n",
       "    <tr>\n",
       "      <th>248</th>\n",
       "      <td>2019-10-15</td>\n",
       "      <td>1742.140015</td>\n",
       "      <td>1776.449951</td>\n",
       "      <td>1740.619995</td>\n",
       "      <td>1767.380005</td>\n",
       "      <td>1767.380005</td>\n",
       "      <td>3111700</td>\n",
       "      <td>10</td>\n",
       "      <td>15</td>\n",
       "      <td>2019</td>\n",
       "    </tr>\n",
       "    <tr>\n",
       "      <th>249</th>\n",
       "      <td>2019-10-16</td>\n",
       "      <td>1773.329956</td>\n",
       "      <td>1786.239990</td>\n",
       "      <td>1770.520020</td>\n",
       "      <td>1777.430054</td>\n",
       "      <td>1777.430054</td>\n",
       "      <td>2763400</td>\n",
       "      <td>10</td>\n",
       "      <td>16</td>\n",
       "      <td>2019</td>\n",
       "    </tr>\n",
       "    <tr>\n",
       "      <th>250</th>\n",
       "      <td>2019-10-17</td>\n",
       "      <td>1796.489990</td>\n",
       "      <td>1798.849976</td>\n",
       "      <td>1782.020020</td>\n",
       "      <td>1787.479980</td>\n",
       "      <td>1787.479980</td>\n",
       "      <td>2647400</td>\n",
       "      <td>10</td>\n",
       "      <td>17</td>\n",
       "      <td>2019</td>\n",
       "    </tr>\n",
       "  </tbody>\n",
       "</table>\n",
       "<p>251 rows × 10 columns</p>\n",
       "</div>"
      ],
      "text/plain": [
       "          Date         Open         High          Low  ClosingPrice  \\\n",
       "0   2018-10-18  1821.489990  1830.150024  1767.869995   1770.719971   \n",
       "1   2018-10-19  1785.160034  1809.099976  1753.000000   1764.030029   \n",
       "2   2018-10-22  1784.000000  1809.500000  1756.000000   1789.300049   \n",
       "3   2018-10-23  1742.239990  1776.339966  1714.000000   1768.699951   \n",
       "4   2018-10-24  1773.699951  1777.709961  1656.560059   1664.199951   \n",
       "..         ...          ...          ...          ...           ...   \n",
       "246 2019-11-10  1742.920044  1745.449951  1729.859985   1731.920044   \n",
       "247 2019-10-14  1728.910034  1741.890015  1722.000000   1736.430054   \n",
       "248 2019-10-15  1742.140015  1776.449951  1740.619995   1767.380005   \n",
       "249 2019-10-16  1773.329956  1786.239990  1770.520020   1777.430054   \n",
       "250 2019-10-17  1796.489990  1798.849976  1782.020020   1787.479980   \n",
       "\n",
       "       Adj Close   Volume  Months  Days  Year  \n",
       "0    1770.719971  5874000      10    18  2018  \n",
       "1    1764.030029  5907200      10    19  2018  \n",
       "2    1789.300049  4500000      10    22  2018  \n",
       "3    1768.699951  6723900      10    23  2018  \n",
       "4    1664.199951  6928400      10    24  2018  \n",
       "..           ...      ...     ...   ...   ...  \n",
       "246  1731.920044  3255000      11    10  2019  \n",
       "247  1736.430054  1910200      10    14  2019  \n",
       "248  1767.380005  3111700      10    15  2019  \n",
       "249  1777.430054  2763400      10    16  2019  \n",
       "250  1787.479980  2647400      10    17  2019  \n",
       "\n",
       "[251 rows x 10 columns]"
      ]
     },
     "execution_count": 46,
     "metadata": {},
     "output_type": "execute_result"
    }
   ],
   "source": [
    "data"
   ]
  },
  {
   "cell_type": "code",
   "execution_count": null,
   "metadata": {},
   "outputs": [],
   "source": []
  }
 ],
 "metadata": {
  "kernelspec": {
   "display_name": "Python 3",
   "language": "python",
   "name": "python3"
  },
  "language_info": {
   "codemirror_mode": {
    "name": "ipython",
    "version": 3
   },
   "file_extension": ".py",
   "mimetype": "text/x-python",
   "name": "python",
   "nbconvert_exporter": "python",
   "pygments_lexer": "ipython3",
   "version": "3.7.4"
  }
 },
 "nbformat": 4,
 "nbformat_minor": 2
}
